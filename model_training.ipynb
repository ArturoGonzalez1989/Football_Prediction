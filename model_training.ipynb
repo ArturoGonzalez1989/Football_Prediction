{
 "cells": [
  {
   "cell_type": "markdown",
   "id": "e57039da",
   "metadata": {},
   "source": [
    "Importing Libraries"
   ]
  },
  {
   "cell_type": "code",
   "execution_count": 1,
   "id": "f5776f79",
   "metadata": {},
   "outputs": [],
   "source": [
    "import pandas as pd\n",
    "import glob\n",
    "import math\n",
    "import os\n",
    "import numpy as np\n",
    "from sklearn.model_selection import train_test_split\n",
    "from sklearn.ensemble import RandomForestClassifier\n",
    "from sklearn.metrics import accuracy_score\n",
    "from sklearn.linear_model import LogisticRegression\n",
    "from sklearn.ensemble import GradientBoostingClassifier\n",
    "import joblib\n",
    "import warnings\n",
    "warnings.filterwarnings(\"ignore\")"
   ]
  },
  {
   "cell_type": "code",
   "execution_count": null,
   "id": "967c8021",
   "metadata": {},
   "outputs": [],
   "source": [
    "# Importing the enriched csv\n",
    "df = pd.read_csv(\"enriched_df.csv\")\n",
    "df.tail(10)"
   ]
  },
  {
   "cell_type": "markdown",
   "id": "18cbc291",
   "metadata": {},
   "source": [
    "### Model training"
   ]
  },
  {
   "cell_type": "code",
   "execution_count": 33,
   "id": "5119ed12",
   "metadata": {},
   "outputs": [],
   "source": [
    "# Select the features and the target variable\n",
    "features = ['POS_HT', 'POS_AT', 'P_HT', 'P_AT', 'G_HT', 'G_AT', 'ELO_Home', 'ELO_Away']\n",
    "target = 'FTR'\n",
    "\n",
    "# Split the dataset into a training and testing set\n",
    "X_train, X_test, y_train, y_test = train_test_split(df[features], df[target], test_size=0.2, random_state=42)"
   ]
  },
  {
   "cell_type": "markdown",
   "id": "e844ea4f",
   "metadata": {},
   "source": [
    "Classification model as Random Forest"
   ]
  },
  {
   "cell_type": "code",
   "execution_count": 34,
   "id": "5325ec2f",
   "metadata": {},
   "outputs": [
    {
     "name": "stdout",
     "output_type": "stream",
     "text": [
      "Model accuracy: 70.88%\n"
     ]
    }
   ],
   "source": [
    "# Create the Random Forest model\n",
    "model = RandomForestClassifier(n_estimators=100, random_state=42)\n",
    "\n",
    "# Train the model\n",
    "model.fit(X_train, y_train)\n",
    "\n",
    "# Make predictions on the testing set\n",
    "predictions = model.predict(X_test)\n",
    "\n",
    "# Calculate the model's accuracy\n",
    "accuracy = accuracy_score(y_test, predictions)\n",
    "print(\"Model accuracy: {:.2f}%\".format(accuracy * 100))"
   ]
  },
  {
   "cell_type": "markdown",
   "id": "c3daae58",
   "metadata": {},
   "source": [
    "Gradient Boost Algorithm"
   ]
  },
  {
   "cell_type": "code",
   "execution_count": 35,
   "id": "6379bca2",
   "metadata": {},
   "outputs": [
    {
     "name": "stdout",
     "output_type": "stream",
     "text": [
      "Model accuracy: 69.57%\n"
     ]
    }
   ],
   "source": [
    "# Create the Gradient Boosting model\n",
    "model = GradientBoostingClassifier()\n",
    "\n",
    "# Train the model\n",
    "model.fit(X_train, y_train)\n",
    "\n",
    "# Make predictions on the testing set\n",
    "predictions = model.predict(X_test)\n",
    "\n",
    "# Calculate the model's accuracy\n",
    "accuracy = accuracy_score(y_test, predictions)\n",
    "print(\"Model accuracy: {:.2f}%\".format(accuracy * 100))"
   ]
  },
  {
   "cell_type": "markdown",
   "id": "4f0e85f1",
   "metadata": {},
   "source": [
    "Logistic Regression Algorithm"
   ]
  },
  {
   "cell_type": "code",
   "execution_count": 36,
   "id": "d09a39bf",
   "metadata": {},
   "outputs": [
    {
     "name": "stdout",
     "output_type": "stream",
     "text": [
      "Model accuracy: 74.63%\n"
     ]
    }
   ],
   "source": [
    "# Create the Multinomial Logistic Regression model\n",
    "model = LogisticRegression(multi_class='multinomial', solver='lbfgs')\n",
    "\n",
    "# Train the model\n",
    "model.fit(X_train, y_train)\n",
    "\n",
    "# Make predictions on the testing set\n",
    "predictions = model.predict(X_test)\n",
    "\n",
    "# Calculate the model's accuracy\n",
    "accuracy = accuracy_score(y_test, predictions)\n",
    "print(\"Model accuracy: {:.2f}%\".format(accuracy * 100))"
   ]
  },
  {
   "cell_type": "markdown",
   "id": "420741be",
   "metadata": {},
   "source": [
    "Finally, we have:\n",
    "- Random Forest Model accuracy: 70.88%\n",
    "- Gradient Boosting Model accuracy: 69.57%\n",
    "- Logistic Regression Model accuracy: 74.63%\n",
    "\n",
    "So we chose Logistic Regression Model as our final model because it has the best accuracy"
   ]
  },
  {
   "cell_type": "markdown",
   "id": "24a6a4ca",
   "metadata": {},
   "source": [
    "Saving either the final model and the concatenation of all dataframes"
   ]
  },
  {
   "cell_type": "code",
   "execution_count": 39,
   "id": "bdecab4e",
   "metadata": {},
   "outputs": [],
   "source": [
    "# We save the final model in .pkl format\n",
    "joblib.dump(model, \"Logistic Regression.pkl\")"
   ]
  },
  {
   "cell_type": "code",
   "execution_count": 18,
   "id": "df977bef",
   "metadata": {},
   "outputs": [
    {
     "data": {
      "text/plain": [
       "array(['H', 'D', 'H', ..., 'H', 'H', 'D'], dtype=object)"
      ]
     },
     "execution_count": 18,
     "metadata": {},
     "output_type": "execute_result"
    }
   ],
   "source": [
    "# Make predictions on the test dataset\n",
    "predictions = model.predict(X_test)\n",
    "predictions"
   ]
  },
  {
   "cell_type": "markdown",
   "id": "5080b265",
   "metadata": {},
   "source": [
    "## Predictive part"
   ]
  },
  {
   "cell_type": "code",
   "execution_count": null,
   "id": "4f85564b",
   "metadata": {},
   "outputs": [
    {
     "name": "stdout",
     "output_type": "stream",
     "text": [
      "Model accuracy: 74.63%\n"
     ]
    }
   ],
   "source": [
    "# Select the features and the target variable\n",
    "features = ['POS_HT', 'POS_AT', 'P_HT', 'P_AT', 'G_HT', 'G_AT', 'ELO_Home', 'ELO_Away']\n",
    "target = 'FTR'\n",
    "\n",
    "# Split the dataset into a training and testing set\n",
    "X_train, X_test, y_train, y_test = train_test_split(df[features], df[target], test_size=0.2, random_state=42)\n",
    "\n",
    "# Cargar el modelo desde el archivo guardado\n",
    "model = joblib.load(\"Logistic Regression.pkl\")\n",
    "\n",
    "# Make predictions in the test set\n",
    "predictions = model.predict(X_test)\n",
    "\n",
    "# Calculate the accuracy of the model\n",
    "accuracy = accuracy_score(y_test, predictions)\n",
    "print(\"Model accuracy: {:.2f}%\".format(accuracy * 100))"
   ]
  },
  {
   "cell_type": "code",
   "execution_count": null,
   "id": "48a4b870",
   "metadata": {},
   "outputs": [
    {
     "data": {
      "text/html": [
       "<div>\n",
       "<style scoped>\n",
       "    .dataframe tbody tr th:only-of-type {\n",
       "        vertical-align: middle;\n",
       "    }\n",
       "\n",
       "    .dataframe tbody tr th {\n",
       "        vertical-align: top;\n",
       "    }\n",
       "\n",
       "    .dataframe thead th {\n",
       "        text-align: right;\n",
       "    }\n",
       "</style>\n",
       "<table border=\"1\" class=\"dataframe\">\n",
       "  <thead>\n",
       "    <tr style=\"text-align: right;\">\n",
       "      <th></th>\n",
       "      <th>POS_HT</th>\n",
       "      <th>POS_AT</th>\n",
       "      <th>P_HT</th>\n",
       "      <th>P_AT</th>\n",
       "      <th>G_HT</th>\n",
       "      <th>G_AT</th>\n",
       "      <th>ELO_Home</th>\n",
       "      <th>ELO_Away</th>\n",
       "      <th>FTR_pred</th>\n",
       "      <th>FTR</th>\n",
       "    </tr>\n",
       "  </thead>\n",
       "  <tbody>\n",
       "    <tr>\n",
       "      <th>12119</th>\n",
       "      <td>18.0</td>\n",
       "      <td>8.0</td>\n",
       "      <td>2.0</td>\n",
       "      <td>6.0</td>\n",
       "      <td>-6.0</td>\n",
       "      <td>2.0</td>\n",
       "      <td>1472.735208</td>\n",
       "      <td>1518.627474</td>\n",
       "      <td>A</td>\n",
       "      <td>A</td>\n",
       "    </tr>\n",
       "    <tr>\n",
       "      <th>7584</th>\n",
       "      <td>14.0</td>\n",
       "      <td>21.0</td>\n",
       "      <td>4.0</td>\n",
       "      <td>1.0</td>\n",
       "      <td>2.0</td>\n",
       "      <td>-2.0</td>\n",
       "      <td>1489.728774</td>\n",
       "      <td>1491.133988</td>\n",
       "      <td>A</td>\n",
       "      <td>A</td>\n",
       "    </tr>\n",
       "    <tr>\n",
       "      <th>2688</th>\n",
       "      <td>5.0</td>\n",
       "      <td>13.0</td>\n",
       "      <td>57.0</td>\n",
       "      <td>42.0</td>\n",
       "      <td>10.0</td>\n",
       "      <td>-13.0</td>\n",
       "      <td>1531.381391</td>\n",
       "      <td>1463.883925</td>\n",
       "      <td>H</td>\n",
       "      <td>H</td>\n",
       "    </tr>\n",
       "    <tr>\n",
       "      <th>399</th>\n",
       "      <td>20.0</td>\n",
       "      <td>20.0</td>\n",
       "      <td>4.0</td>\n",
       "      <td>4.0</td>\n",
       "      <td>-5.0</td>\n",
       "      <td>-7.0</td>\n",
       "      <td>1465.556351</td>\n",
       "      <td>1463.321724</td>\n",
       "      <td>D</td>\n",
       "      <td>D</td>\n",
       "    </tr>\n",
       "    <tr>\n",
       "      <th>102</th>\n",
       "      <td>6.0</td>\n",
       "      <td>1.0</td>\n",
       "      <td>23.0</td>\n",
       "      <td>34.0</td>\n",
       "      <td>3.0</td>\n",
       "      <td>27.0</td>\n",
       "      <td>1515.686009</td>\n",
       "      <td>1593.056126</td>\n",
       "      <td>A</td>\n",
       "      <td>A</td>\n",
       "    </tr>\n",
       "    <tr>\n",
       "      <th>8726</th>\n",
       "      <td>2.0</td>\n",
       "      <td>9.0</td>\n",
       "      <td>52.0</td>\n",
       "      <td>39.0</td>\n",
       "      <td>22.0</td>\n",
       "      <td>11.0</td>\n",
       "      <td>1567.219564</td>\n",
       "      <td>1520.845393</td>\n",
       "      <td>D</td>\n",
       "      <td>A</td>\n",
       "    </tr>\n",
       "    <tr>\n",
       "      <th>1634</th>\n",
       "      <td>19.0</td>\n",
       "      <td>7.0</td>\n",
       "      <td>7.0</td>\n",
       "      <td>14.0</td>\n",
       "      <td>-11.0</td>\n",
       "      <td>-4.0</td>\n",
       "      <td>1474.221146</td>\n",
       "      <td>1494.869309</td>\n",
       "      <td>H</td>\n",
       "      <td>H</td>\n",
       "    </tr>\n",
       "    <tr>\n",
       "      <th>3011</th>\n",
       "      <td>22.0</td>\n",
       "      <td>20.0</td>\n",
       "      <td>28.0</td>\n",
       "      <td>34.0</td>\n",
       "      <td>-9.0</td>\n",
       "      <td>-12.0</td>\n",
       "      <td>1449.494995</td>\n",
       "      <td>1486.580500</td>\n",
       "      <td>A</td>\n",
       "      <td>A</td>\n",
       "    </tr>\n",
       "    <tr>\n",
       "      <th>12878</th>\n",
       "      <td>20.0</td>\n",
       "      <td>13.0</td>\n",
       "      <td>4.0</td>\n",
       "      <td>14.0</td>\n",
       "      <td>-14.0</td>\n",
       "      <td>0.0</td>\n",
       "      <td>1442.036406</td>\n",
       "      <td>1526.388612</td>\n",
       "      <td>A</td>\n",
       "      <td>A</td>\n",
       "    </tr>\n",
       "    <tr>\n",
       "      <th>4863</th>\n",
       "      <td>14.0</td>\n",
       "      <td>9.0</td>\n",
       "      <td>22.0</td>\n",
       "      <td>29.0</td>\n",
       "      <td>-6.0</td>\n",
       "      <td>1.0</td>\n",
       "      <td>1463.677085</td>\n",
       "      <td>1529.093800</td>\n",
       "      <td>A</td>\n",
       "      <td>A</td>\n",
       "    </tr>\n",
       "  </tbody>\n",
       "</table>\n",
       "</div>"
      ],
      "text/plain": [
       "       POS_HT  POS_AT  P_HT  P_AT  G_HT  G_AT     ELO_Home     ELO_Away  \\\n",
       "12119    18.0     8.0   2.0   6.0  -6.0   2.0  1472.735208  1518.627474   \n",
       "7584     14.0    21.0   4.0   1.0   2.0  -2.0  1489.728774  1491.133988   \n",
       "2688      5.0    13.0  57.0  42.0  10.0 -13.0  1531.381391  1463.883925   \n",
       "399      20.0    20.0   4.0   4.0  -5.0  -7.0  1465.556351  1463.321724   \n",
       "102       6.0     1.0  23.0  34.0   3.0  27.0  1515.686009  1593.056126   \n",
       "8726      2.0     9.0  52.0  39.0  22.0  11.0  1567.219564  1520.845393   \n",
       "1634     19.0     7.0   7.0  14.0 -11.0  -4.0  1474.221146  1494.869309   \n",
       "3011     22.0    20.0  28.0  34.0  -9.0 -12.0  1449.494995  1486.580500   \n",
       "12878    20.0    13.0   4.0  14.0 -14.0   0.0  1442.036406  1526.388612   \n",
       "4863     14.0     9.0  22.0  29.0  -6.0   1.0  1463.677085  1529.093800   \n",
       "\n",
       "      FTR_pred FTR  \n",
       "12119        A   A  \n",
       "7584         A   A  \n",
       "2688         H   H  \n",
       "399          D   D  \n",
       "102          A   A  \n",
       "8726         D   A  \n",
       "1634         H   H  \n",
       "3011         A   A  \n",
       "12878        A   A  \n",
       "4863         A   A  "
      ]
     },
     "metadata": {},
     "output_type": "display_data"
    }
   ],
   "source": [
    "# Adding the predicted results to the dataset\n",
    "X_test['FTR_pred'] = predictions\n",
    "X_test['FTR'] = y_test\n",
    "\n",
    "fixtures = X_test\n",
    "fixtures.head(10)"
   ]
  },
  {
   "cell_type": "code",
   "execution_count": null,
   "id": "0d67168d",
   "metadata": {},
   "outputs": [
    {
     "name": "stdout",
     "output_type": "stream",
     "text": [
      "Accuracy: 74.63%\n"
     ]
    }
   ],
   "source": [
    "correct_predictions = (fixtures['FTR_pred'] == fixtures['FTR']).sum()\n",
    "total_predictions = len(fixtures)\n",
    "accuracy = (correct_predictions / total_predictions) * 100\n",
    "\n",
    "print(f\"Accuracy: {accuracy:.2f}%\")"
   ]
  }
 ],
 "metadata": {
  "kernelspec": {
   "display_name": "Python 3 (ipykernel)",
   "language": "python",
   "name": "python3"
  },
  "language_info": {
   "codemirror_mode": {
    "name": "ipython",
    "version": 3
   },
   "file_extension": ".py",
   "mimetype": "text/x-python",
   "name": "python",
   "nbconvert_exporter": "python",
   "pygments_lexer": "ipython3",
   "version": "3.9.13"
  }
 },
 "nbformat": 4,
 "nbformat_minor": 5
}
